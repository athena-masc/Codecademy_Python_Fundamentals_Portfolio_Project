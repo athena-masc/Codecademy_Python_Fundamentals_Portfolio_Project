{
 "cells": [
  {
   "cell_type": "markdown",
   "metadata": {},
   "source": [
    "# U.S. Medical Insurance Costs"
   ]
  },
  {
   "cell_type": "markdown",
   "metadata": {},
   "source": [
    "In this project, a **CSV** file with medical insurance costs will be investigated using Python fundamentals. The goal with this project will be to analyze various attributes within **insurance.csv** to learn more about the patient information in the file and gain insight into potential use cases for the dataset."
   ]
  },
  {
   "cell_type": "markdown",
   "metadata": {},
   "source": [
    "**insurance.csv** contains the following columns:\n",
    "* age: Patient Age\n",
    "* sex: Patient Sex \n",
    "* bmi: Patient BMI\n",
    "* children: Patient Number of Children\n",
    "* smoker: Patient Smoking Status\n",
    "* region: Patient U.S Geopraphical Region\n",
    "* charges: Patient Yearly Medical Insurance Cost\n",
    "\n",
    "There are no signs of missing data. To store this information, seven empty lists will be created hold each individual column of data from **insurance.csv**."
   ]
  },
  {
   "cell_type": "markdown",
   "metadata": {},
   "source": [
    "We will look into the following aspects:\n",
    "- Create a list that contains the dictionary of patient information\n",
    "- Average age of patients\n",
    "- Average age of bmi\n",
    "- Average age of the patients in each region\n",
    "- Average bmi of the patients in each region\n",
    "- Average age and bmi change for each region if we consider sex\n",
    "- Are there areas that have more smokers? In these areas, what is the proportion of male vs female that smoke?\n",
    "- Average yearly medical charges\n",
    "- Average yearly medical charges in each region\n",
    "- Average yearly medical charges for each region if we take sex into account"
   ]
  },
  {
   "cell_type": "markdown",
   "metadata": {},
   "source": [
    "First, we import the `CSV` library"
   ]
  },
  {
   "cell_type": "code",
   "execution_count": 215,
   "metadata": {},
   "outputs": [],
   "source": [
    "#import CSV\n",
    "import csv"
   ]
  },
  {
   "cell_type": "markdown",
   "metadata": {},
   "source": [
    "Using `DictReader` in the `CSV` library, we will read the data into a list that holds a dictionary of the patient information (i.e. age, sex, bmi, children, smoker, region, charges)"
   ]
  },
  {
   "cell_type": "code",
   "execution_count": 217,
   "metadata": {},
   "outputs": [
    {
     "data": {
      "text/plain": [
       "[{'age': '19',\n",
       "  'sex': 'female',\n",
       "  'bmi': '27.9',\n",
       "  'children': '0',\n",
       "  'smoker': 'yes',\n",
       "  'region': 'southwest',\n",
       "  'charges': '16884.924'},\n",
       " {'age': '18',\n",
       "  'sex': 'male',\n",
       "  'bmi': '33.77',\n",
       "  'children': '1',\n",
       "  'smoker': 'no',\n",
       "  'region': 'southeast',\n",
       "  'charges': '1725.5523'},\n",
       " {'age': '28',\n",
       "  'sex': 'male',\n",
       "  'bmi': '33',\n",
       "  'children': '3',\n",
       "  'smoker': 'no',\n",
       "  'region': 'southeast',\n",
       "  'charges': '4449.462'},\n",
       " {'age': '33',\n",
       "  'sex': 'male',\n",
       "  'bmi': '22.705',\n",
       "  'children': '0',\n",
       "  'smoker': 'no',\n",
       "  'region': 'northwest',\n",
       "  'charges': '21984.47061'},\n",
       " {'age': '32',\n",
       "  'sex': 'male',\n",
       "  'bmi': '28.88',\n",
       "  'children': '0',\n",
       "  'smoker': 'no',\n",
       "  'region': 'northwest',\n",
       "  'charges': '3866.8552'}]"
      ]
     },
     "execution_count": 217,
     "metadata": {},
     "output_type": "execute_result"
    }
   ],
   "source": [
    "#open the Insurace CSV file\n",
    "with open(\"insurance.csv\") as ins_file:\n",
    "#read the CSV file\n",
    "    Ins_read=csv.DictReader(ins_file,delimiter=\",\")\n",
    "#Create List of Patient Info\n",
    "    Patient_Info = []\n",
    "    for record in Ins_read:\n",
    "        Patient_Info.append(record)\n",
    "#Print first 5 list item\n",
    "Patient_Info[:5]"
   ]
  },
  {
   "cell_type": "markdown",
   "metadata": {},
   "source": [
    "We will define a function called `find_average()` that will calculate the average of any column"
   ]
  },
  {
   "cell_type": "code",
   "execution_count": 219,
   "metadata": {},
   "outputs": [],
   "source": [
    "def find_average(column):\n",
    "    total_value = 0\n",
    "    for record in Patient_Info:\n",
    "        total_value+=float(record[column])\n",
    "    return print(\"Average \" + column + \" is \" + str(round(total_value/len(Patient_Info),2)))"
   ]
  },
  {
   "cell_type": "markdown",
   "metadata": {},
   "source": [
    "We will define a function called `find_avg_per_region()` that will find the average of requested column for each region."
   ]
  },
  {
   "cell_type": "code",
   "execution_count": 221,
   "metadata": {},
   "outputs": [],
   "source": [
    "def find_avg_per_region(column):\n",
    "    Avg_per_region = {}\n",
    "    for record in Patient_Info:\n",
    "        region = record['region']\n",
    "        if region in Avg_per_region:\n",
    "            Avg_per_region[region]['Total']+=float(record[column])\n",
    "            Avg_per_region[region]['Count']+=1\n",
    "        else:\n",
    "            Avg_per_region[region]={}\n",
    "            Avg_per_region[region]['Total']=float(record[column])\n",
    "            Avg_per_region[region]['Count']=1\n",
    "    for region in Avg_per_region:\n",
    "        print(\"Average \" + column + \" in the \" + region + \" region is \" + \n",
    "              str(round(Avg_per_region[region]['Total']/Avg_per_region[region]['Count'],2)))"
   ]
  },
  {
   "cell_type": "markdown",
   "metadata": {},
   "source": [
    "We will define a function called `find_avg_per_region_per_sex()` that will find the average of requested column for each region per sex."
   ]
  },
  {
   "cell_type": "code",
   "execution_count": 223,
   "metadata": {},
   "outputs": [],
   "source": [
    "def find_avg_per_region_per_sex(column):\n",
    "    Avg_per_region_per_sex = {}\n",
    "    for record in Patient_Info:\n",
    "        region = record['region']\n",
    "        sex = record['sex']\n",
    "        if region in Avg_per_region_per_sex:\n",
    "            if sex in Avg_per_region_per_sex[region]:             \n",
    "                Avg_per_region_per_sex[region][sex]['Total']+=float(record[column])\n",
    "                Avg_per_region_per_sex[region][sex]['Count']+=1\n",
    "            else:\n",
    "                Avg_per_region_per_sex[region][sex]={}\n",
    "                Avg_per_region_per_sex[region][sex]['Total']=float(record[column])\n",
    "                Avg_per_region_per_sex[region][sex]['Count']=1\n",
    "        else:\n",
    "            Avg_per_region_per_sex[region]={}\n",
    "            Avg_per_region_per_sex[region][sex]={}\n",
    "            Avg_per_region_per_sex[region][sex]['Total']=float(record[column])\n",
    "            Avg_per_region_per_sex[region][sex]['Count']=1\n",
    "    for region in Avg_per_region_per_sex:\n",
    "        for sex in Avg_per_region_per_sex[region]:\n",
    "            print(\"Average \" + column + \" of \" + sex + \" in the \" + region + \" region is \" + \n",
    "                  str(round(Avg_per_region_per_sex[region][sex]['Total']/Avg_per_region_per_sex[region][sex]['Count'],2))) \n",
    " "
   ]
  },
  {
   "cell_type": "markdown",
   "metadata": {},
   "source": [
    "We will define a function called `smokers_in_region()` that will determine the proportion of smokers in each region."
   ]
  },
  {
   "cell_type": "code",
   "execution_count": 225,
   "metadata": {},
   "outputs": [],
   "source": [
    "def smokers_in_region():\n",
    "    smokers_per_region = {}\n",
    "    for record in Patient_Info:\n",
    "        region = record['region']\n",
    "        if region in smokers_per_region:\n",
    "            smokers_per_region[region]['Total']+=1\n",
    "            if record['smoker'] == 'yes':\n",
    "                smokers_per_region[region]['Count of Smokers']+=1\n",
    "        else:\n",
    "            smokers_per_region[region]={}\n",
    "            smokers_per_region[region]['Total']=1\n",
    "            if record['smoker'] == 'yes':\n",
    "                smokers_per_region[region]['Count of Smokers']=1\n",
    "            else:\n",
    "                smokers_per_region[region]['Count of Smokers']=0\n",
    "    for region in smokers_per_region:\n",
    "        print(\"Proportion of smokers in the \" + region + \" region is \" + \n",
    "              str(round(smokers_per_region[region]['Count of Smokers']/smokers_per_region[region]['Total'],2)))"
   ]
  },
  {
   "cell_type": "markdown",
   "metadata": {},
   "source": [
    "We will define a function called `smokers_in_region_per_sex()` that will determine the proportion of smokers for each sex in each region."
   ]
  },
  {
   "cell_type": "code",
   "execution_count": 227,
   "metadata": {},
   "outputs": [],
   "source": [
    "def smokers_in_region_per_sex():\n",
    "    smokers_per_region_per_sex = {}\n",
    "    for record in Patient_Info:\n",
    "        region = record['region']\n",
    "        sex = record['sex']\n",
    "        if region in smokers_per_region_per_sex:\n",
    "            if sex in smokers_per_region_per_sex[region]:             \n",
    "                smokers_per_region_per_sex[region][sex]['Total']+=1\n",
    "                if record['smoker'] == 'yes':\n",
    "                    smokers_per_region_per_sex[region][sex]['Count of Smokers']+=1\n",
    "            else:\n",
    "                smokers_per_region_per_sex[region][sex]={}\n",
    "                smokers_per_region_per_sex[region][sex]['Total']=1\n",
    "                if record['smoker'] == 'yes':\n",
    "                    smokers_per_region_per_sex[region][sex]['Count of Smokers']=1\n",
    "                else:\n",
    "                    smokers_per_region_per_sex[region][sex]['Count of Smokers']=0\n",
    "        else:\n",
    "            smokers_per_region_per_sex[region]={}\n",
    "            smokers_per_region_per_sex[region][sex]={}\n",
    "            smokers_per_region_per_sex[region][sex]['Total']=1\n",
    "            if record['smoker'] == 'yes':\n",
    "                smokers_per_region_per_sex[region][sex]['Count of Smokers']=1\n",
    "            else:\n",
    "                smokers_per_region_per_sex[region][sex]['Count of Smokers']=0\n",
    "    for region in smokers_per_region_per_sex:\n",
    "        for sex in smokers_per_region_per_sex[region]:\n",
    "            print(\"Proportion of \" + sex + \" smokers in the \" + region + \" region is \" + \n",
    "              str(round(smokers_per_region_per_sex[region][sex]['Count of Smokers']/smokers_per_region_per_sex[region][sex]['Total'],2)))"
   ]
  },
  {
   "cell_type": "markdown",
   "metadata": {},
   "source": [
    "Let's perform the analysis on the data. We will find the average age and bmi."
   ]
  },
  {
   "cell_type": "code",
   "execution_count": 229,
   "metadata": {},
   "outputs": [
    {
     "name": "stdout",
     "output_type": "stream",
     "text": [
      "Average age is 39.21\n"
     ]
    }
   ],
   "source": [
    "find_average('age')"
   ]
  },
  {
   "cell_type": "code",
   "execution_count": 230,
   "metadata": {},
   "outputs": [
    {
     "name": "stdout",
     "output_type": "stream",
     "text": [
      "Average bmi is 30.66\n"
     ]
    }
   ],
   "source": [
    "find_average('bmi')"
   ]
  },
  {
   "cell_type": "markdown",
   "metadata": {},
   "source": [
    "The average age of the patients in **insurance.csv** is about 39 years old and average bmi of the patients in **insurance.csv** is about 30.7.\n",
    "\n",
    "Next, we will find the average age and bmi per geographical region. It is important to note that all the patients come from the United States."
   ]
  },
  {
   "cell_type": "code",
   "execution_count": 232,
   "metadata": {},
   "outputs": [
    {
     "name": "stdout",
     "output_type": "stream",
     "text": [
      "Average age in the southwest region is 39.46\n",
      "Average age in the southeast region is 38.94\n",
      "Average age in the northwest region is 39.2\n",
      "Average age in the northeast region is 39.27\n"
     ]
    }
   ],
   "source": [
    "find_avg_per_region('age')"
   ]
  },
  {
   "cell_type": "code",
   "execution_count": 233,
   "metadata": {},
   "outputs": [
    {
     "name": "stdout",
     "output_type": "stream",
     "text": [
      "Average bmi in the southwest region is 30.6\n",
      "Average bmi in the southeast region is 33.36\n",
      "Average bmi in the northwest region is 29.2\n",
      "Average bmi in the northeast region is 29.17\n"
     ]
    }
   ],
   "source": [
    "find_avg_per_region('bmi')"
   ]
  },
  {
   "cell_type": "markdown",
   "metadata": {},
   "source": [
    "The geographical regions are classified as southwest, souteast, northwest and northeast. What defines each region is unknown. \n",
    "\n",
    "The average age in each region is approximately 39 years old which is similar to the population average.\n",
    "\n",
    "The average bmi in the southeast is 33.4 which is higher than the average. The other regions have an average bmi closer to the population bmi. The average of the population is skewed probably because of the patients in the southeast region.\n",
    "\n",
    "Next, we will find the average age and bmi for each geographical region for each sex."
   ]
  },
  {
   "cell_type": "code",
   "execution_count": 235,
   "metadata": {},
   "outputs": [
    {
     "name": "stdout",
     "output_type": "stream",
     "text": [
      "Average age of female in the southwest region is 39.7\n",
      "Average age of male in the southwest region is 39.21\n",
      "Average age of male in the southeast region is 38.78\n",
      "Average age of female in the southeast region is 39.11\n",
      "Average age of male in the northwest region is 38.8\n",
      "Average age of female in the northwest region is 39.59\n",
      "Average age of male in the northeast region is 38.9\n",
      "Average age of female in the northeast region is 39.64\n"
     ]
    }
   ],
   "source": [
    "find_avg_per_region_per_sex('age')"
   ]
  },
  {
   "cell_type": "code",
   "execution_count": 236,
   "metadata": {},
   "outputs": [
    {
     "name": "stdout",
     "output_type": "stream",
     "text": [
      "Average bmi of female in the southwest region is 30.06\n",
      "Average bmi of male in the southwest region is 31.13\n",
      "Average bmi of male in the southeast region is 33.99\n",
      "Average bmi of female in the southeast region is 32.67\n",
      "Average bmi of male in the northwest region is 29.12\n",
      "Average bmi of female in the northwest region is 29.28\n",
      "Average bmi of male in the northeast region is 29.02\n",
      "Average bmi of female in the northeast region is 29.32\n"
     ]
    }
   ],
   "source": [
    "find_avg_per_region_per_sex('bmi')"
   ]
  },
  {
   "cell_type": "markdown",
   "metadata": {},
   "source": [
    "We are only taking the following sexes into consideration: male, female\n",
    "\n",
    "The average age in each region for both sexes is within one year of the population average.\n",
    "\n",
    "The average bmi for males and females in each region is within 1-2 points. In the southeast region where the average bmi is 3 points higher than the population average, the average bmi for males is higher than females.\n",
    "\n",
    "Next, we will find the proportion of smokers in each geographical location"
   ]
  },
  {
   "cell_type": "code",
   "execution_count": 238,
   "metadata": {},
   "outputs": [
    {
     "name": "stdout",
     "output_type": "stream",
     "text": [
      "Proportion of smokers in the southwest region is 0.18\n",
      "Proportion of smokers in the southeast region is 0.25\n",
      "Proportion of smokers in the northwest region is 0.18\n",
      "Proportion of smokers in the northeast region is 0.21\n"
     ]
    }
   ],
   "source": [
    "smokers_in_region()"
   ]
  },
  {
   "cell_type": "markdown",
   "metadata": {},
   "source": [
    "25% of the patients in southeast region are smokers. 21% of the patients in northeast region are smokers. In the other regions, 18% of the patients are smokers."
   ]
  },
  {
   "cell_type": "code",
   "execution_count": 240,
   "metadata": {},
   "outputs": [
    {
     "name": "stdout",
     "output_type": "stream",
     "text": [
      "Proportion of female smokers in the southwest region is 0.13\n",
      "Proportion of male smokers in the southwest region is 0.23\n",
      "Proportion of male smokers in the southeast region is 0.29\n",
      "Proportion of female smokers in the southeast region is 0.21\n",
      "Proportion of male smokers in the northwest region is 0.18\n",
      "Proportion of female smokers in the northwest region is 0.18\n",
      "Proportion of male smokers in the northeast region is 0.23\n",
      "Proportion of female smokers in the northeast region is 0.18\n"
     ]
    }
   ],
   "source": [
    "smokers_in_region_per_sex()"
   ]
  },
  {
   "cell_type": "markdown",
   "metadata": {},
   "source": [
    "It looks like in most regions, there are more male smokers than female smokers. However, in the northwest, there is an equal proportion of male and females that smoke. The proportion of male smokers in the northwest is much smaller than other regions.\n",
    "\n",
    "In the southwest region, 13% of females are smokers and 23% of males are smokers. The proportion of female smokers is much smaller than male smokers. The proportion of male smokers is much smaller than other regions.\n",
    "In the southeast region, 21% of females are smokers and 29% of males are smokers.The overall proportion of female and male smokers is much higher than other regions.\n",
    "In the northeast region, 18% of females are smokers and 23% of males are smokers.\n",
    "\n",
    "Let us now analyze the insurance costs of the patients."
   ]
  },
  {
   "cell_type": "code",
   "execution_count": 242,
   "metadata": {},
   "outputs": [
    {
     "name": "stdout",
     "output_type": "stream",
     "text": [
      "Average charges is 13270.42\n"
     ]
    }
   ],
   "source": [
    "find_average('charges')"
   ]
  },
  {
   "cell_type": "markdown",
   "metadata": {},
   "source": [
    "The average charges of the patients is $13270.42. Now, lets take a look at the average charges for each geographical location. \n",
    "\n",
    "From the above analysis, we can assume that the average insurance cost for the southeast region will be high."
   ]
  },
  {
   "cell_type": "code",
   "execution_count": 244,
   "metadata": {},
   "outputs": [
    {
     "name": "stdout",
     "output_type": "stream",
     "text": [
      "Average charges in the southwest region is 12346.94\n",
      "Average charges in the southeast region is 14735.41\n",
      "Average charges in the northwest region is 12417.58\n",
      "Average charges in the northeast region is 13406.38\n"
     ]
    }
   ],
   "source": [
    "find_avg_per_region('charges')"
   ]
  },
  {
   "cell_type": "markdown",
   "metadata": {},
   "source": [
    "As expected, the average charges in the southeast region is \\\\$14735.41 which is more than \\\\$1000 higher than the population average. Average charges for southwest and northwest is between \\\\$12000-\\\\$12500. The average charges for northeast is approximately \\\\$1000 more than the average charges of the southwest and northwest.\n",
    "\n",
    "Let's take a look at the yearly cost for each sex in each region."
   ]
  },
  {
   "cell_type": "code",
   "execution_count": 246,
   "metadata": {},
   "outputs": [
    {
     "name": "stdout",
     "output_type": "stream",
     "text": [
      "Average charges of female in the southwest region is 11274.41\n",
      "Average charges of male in the southwest region is 13412.88\n",
      "Average charges of male in the southeast region is 15879.62\n",
      "Average charges of female in the southeast region is 13499.67\n",
      "Average charges of male in the northwest region is 12354.12\n",
      "Average charges of female in the northwest region is 12479.87\n",
      "Average charges of male in the northeast region is 13854.01\n",
      "Average charges of female in the northeast region is 12953.2\n"
     ]
    }
   ],
   "source": [
    "find_avg_per_region_per_sex('charges')"
   ]
  },
  {
   "cell_type": "markdown",
   "metadata": {},
   "source": [
    "The impact of smoking on the insurance cost should be explored further. It looks like the average yearly cost seems to be lower in regions with fewer smokers vs regions with more smokers. The trend is similar to the proportion of smokers. \n",
    "\n",
    "For instance, in the southwest where the proportion of female smokers was .13 and male smokers is .23, the average cost for females is about $2000 less than the average cost for males. In the northwest, where the proportion of male and female smokers were equal, the cost is approximately the same.\n",
    "\n",
    "It might be worth it to explore if smoking has a significant impact on the insurance cost."
   ]
  },
  {
   "cell_type": "code",
   "execution_count": null,
   "metadata": {},
   "outputs": [],
   "source": []
  },
  {
   "cell_type": "code",
   "execution_count": null,
   "metadata": {},
   "outputs": [],
   "source": []
  }
 ],
 "metadata": {
  "kernelspec": {
   "display_name": "Python 3 (ipykernel)",
   "language": "python",
   "name": "python3"
  },
  "language_info": {
   "codemirror_mode": {
    "name": "ipython",
    "version": 3
   },
   "file_extension": ".py",
   "mimetype": "text/x-python",
   "name": "python",
   "nbconvert_exporter": "python",
   "pygments_lexer": "ipython3",
   "version": "3.12.4"
  }
 },
 "nbformat": 4,
 "nbformat_minor": 4
}
