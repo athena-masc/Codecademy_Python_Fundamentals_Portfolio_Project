{
 "cells": [
  {
   "cell_type": "markdown",
   "metadata": {},
   "source": [
    "# U.S. Medical Insurance Costs"
   ]
  },
  {
   "cell_type": "code",
   "execution_count": 71,
   "metadata": {},
   "outputs": [
    {
     "name": "stdout",
     "output_type": "stream",
     "text": [
      "The average cost for females in southwest is 11274.41\n",
      "The average cost for males in southwest is 13412.88\n",
      "The average cost for males in southeast is 15879.62\n",
      "The average cost for females in southeast is 13499.67\n",
      "The average cost for males in northwest is 12354.12\n",
      "The average cost for females in northwest is 12479.87\n",
      "The average cost for males in northeast is 13854.01\n",
      "The average cost for females in northeast is 12953.2\n"
     ]
    }
   ],
   "source": [
    "#find the average insurance cost per region per sex:\n",
    "#import CSV\n",
    "import csv\n",
    "\n",
    "#open the Insurace CSV file\n",
    "with open(\"insurance.csv\") as ins_file:\n",
    "#read the CSV file\n",
    "    Ins_read=csv.DictReader(ins_file,delimiter=\",\")\n",
    "#Create a dictionary\n",
    "    Ins_cost_per_Region_per_Sex={}\n",
    "    \n",
    "#for each region calculate the total cost and the number of records in each region for each sex\n",
    "    for record in Ins_read:\n",
    "#Instead of typing this twice created a function\n",
    "        def sex_conditional(region,sex,cost):\n",
    "            if sex in Ins_cost_per_Region_per_Sex[region]:\n",
    "#append total_cost and count\n",
    "                Ins_cost_per_Region_per_Sex[region][sex]['Total']+=cost\n",
    "                Ins_cost_per_Region_per_Sex[region][sex]['Count']+=1\n",
    "            else:\n",
    "                Ins_cost_per_Region_per_Sex[region][sex]={}\n",
    "                Ins_cost_per_Region_per_Sex[region][sex]['Total']=cost\n",
    "                Ins_cost_per_Region_per_Sex[region][sex]['Count']=1\n",
    "        sex=record['sex']\n",
    "        region=record['region']\n",
    "        cost=float(record['charges'])\n",
    "        if region in Ins_cost_per_Region_per_Sex:\n",
    "            sex_conditional(region,sex,cost)\n",
    "        else:\n",
    "            Ins_cost_per_Region_per_Sex[region]={}\n",
    "            sex_conditional(region,sex,cost)\n",
    "#Pring statement for each region and sex what the average cost is\n",
    "\n",
    "    for region in Ins_cost_per_Region_per_Sex:\n",
    "        for sex in Ins_cost_per_Region_per_Sex[region]:\n",
    "            total=Ins_cost_per_Region_per_Sex[region][sex]['Total']\n",
    "            count=Ins_cost_per_Region_per_Sex[region][sex]['Count']\n",
    "            print(\"The average cost for {sex}s in {region} is {avg_cost}\".format(region=region,sex=sex,avg_cost=str(round(total/count,2))))\n",
    "\n",
    "            \n",
    "        \n",
    "        \n",
    "        \n",
    "        \n",
    "#There is not a huge difference between male and females in the the different areas. The difference is around a 1000 dollars.\n",
    "          "
   ]
  },
  {
   "cell_type": "code",
   "execution_count": null,
   "metadata": {},
   "outputs": [],
   "source": [
    "        "
   ]
  },
  {
   "cell_type": "code",
   "execution_count": null,
   "metadata": {},
   "outputs": [],
   "source": []
  }
 ],
 "metadata": {
  "kernelspec": {
   "display_name": "Python 3 (ipykernel)",
   "language": "python",
   "name": "python3"
  },
  "language_info": {
   "codemirror_mode": {
    "name": "ipython",
    "version": 3
   },
   "file_extension": ".py",
   "mimetype": "text/x-python",
   "name": "python",
   "nbconvert_exporter": "python",
   "pygments_lexer": "ipython3",
   "version": "3.12.4"
  }
 },
 "nbformat": 4,
 "nbformat_minor": 4
}
